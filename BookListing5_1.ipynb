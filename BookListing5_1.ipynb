{
  "nbformat": 4,
  "nbformat_minor": 0,
  "metadata": {
    "colab": {
      "name": "BookListing5_1.ipynb",
      "provenance": [],
      "authorship_tag": "ABX9TyMa1Sb/qOFgMbYiSW7OHOe1",
      "include_colab_link": true
    },
    "kernelspec": {
      "name": "python3",
      "display_name": "Python 3"
    },
    "language_info": {
      "name": "python"
    }
  },
  "cells": [
    {
      "cell_type": "markdown",
      "metadata": {
        "id": "view-in-github",
        "colab_type": "text"
      },
      "source": [
        "<a href=\"https://colab.research.google.com/github/pbrugierewebsite/QPM_Templates/blob/main/BookListing5_1.ipynb\" target=\"_parent\"><img src=\"https://colab.research.google.com/assets/colab-badge.svg\" alt=\"Open In Colab\"/></a>"
      ]
    },
    {
      "cell_type": "code",
      "source": [
        "!pip install yfinance"
      ],
      "metadata": {
        "colab": {
          "base_uri": "https://localhost:8080/"
        },
        "id": "7xgrRc5IPPnQ",
        "outputId": "77adfdaa-3ecb-43a0-cd36-7308614ce078"
      },
      "execution_count": 2,
      "outputs": [
        {
          "output_type": "stream",
          "name": "stdout",
          "text": [
            "Requirement already satisfied: yfinance in /usr/local/lib/python3.7/dist-packages (0.1.70)\n",
            "Requirement already satisfied: pandas>=0.24.0 in /usr/local/lib/python3.7/dist-packages (from yfinance) (1.3.5)\n",
            "Requirement already satisfied: lxml>=4.5.1 in /usr/local/lib/python3.7/dist-packages (from yfinance) (4.8.0)\n",
            "Requirement already satisfied: multitasking>=0.0.7 in /usr/local/lib/python3.7/dist-packages (from yfinance) (0.0.10)\n",
            "Requirement already satisfied: requests>=2.26 in /usr/local/lib/python3.7/dist-packages (from yfinance) (2.27.1)\n",
            "Requirement already satisfied: numpy>=1.15 in /usr/local/lib/python3.7/dist-packages (from yfinance) (1.21.6)\n",
            "Requirement already satisfied: pytz>=2017.3 in /usr/local/lib/python3.7/dist-packages (from pandas>=0.24.0->yfinance) (2022.1)\n",
            "Requirement already satisfied: python-dateutil>=2.7.3 in /usr/local/lib/python3.7/dist-packages (from pandas>=0.24.0->yfinance) (2.8.2)\n",
            "Requirement already satisfied: six>=1.5 in /usr/local/lib/python3.7/dist-packages (from python-dateutil>=2.7.3->pandas>=0.24.0->yfinance) (1.15.0)\n",
            "Requirement already satisfied: certifi>=2017.4.17 in /usr/local/lib/python3.7/dist-packages (from requests>=2.26->yfinance) (2021.10.8)\n",
            "Requirement already satisfied: idna<4,>=2.5 in /usr/local/lib/python3.7/dist-packages (from requests>=2.26->yfinance) (2.10)\n",
            "Requirement already satisfied: charset-normalizer~=2.0.0 in /usr/local/lib/python3.7/dist-packages (from requests>=2.26->yfinance) (2.0.12)\n",
            "Requirement already satisfied: urllib3<1.27,>=1.21.1 in /usr/local/lib/python3.7/dist-packages (from requests>=2.26->yfinance) (1.24.3)\n"
          ]
        }
      ]
    },
    {
      "cell_type": "code",
      "metadata": {
        "colab": {
          "base_uri": "https://localhost:8080/",
          "height": 887
        },
        "id": "MOPj5FJUhy2V",
        "outputId": "ba861273-89b0-4bf5-a391-2b01ce3cefa4"
      },
      "source": [
        "# Library importations\n",
        "import yfinance as yf\n",
        "import pandas as pd\n",
        "import pandas_datareader.data as web\n",
        "import numpy as np\n",
        "import math\n",
        "from numpy import linalg as LA\n",
        "from numpy.linalg import inv\n",
        "from scipy import stats\n",
        "#from matplotlib import pyplot as plt # delete for Python 3\n",
        "import matplotlib.pyplot as plt # add for Python 3\n",
        "fig, ax = plt.subplots()\n",
        "\n",
        "# Data extraction\n",
        "data = pd.Series()\n",
        "TickerDax = ['DPW.DE','ALV.DE','BMW.DE','BAS.DE','FME.DE']\n",
        "for x in TickerDax :\n",
        "    data[x] = yf.Ticker(x).history(start='2017-01-1',end='2017-12-31')\n",
        "\n",
        "# Variable creations\n",
        "r=0 # risk-free rate\n",
        "AFactor = len(data['DPW.DE'])-1 # annualisation factor, based on number of observations in a year\n",
        "n_TickerDax = len(TickerDax) # nb of stocks considered\n",
        "Vec1 = np.linspace(1, 1, n_TickerDax) # create a vector, with all components equal to 1\n",
        "data_R = pd.DataFrame() # daily returns\n",
        "Mdata_R = pd.DataFrame() # means of the daily returns\n",
        "Sigma = pd.DataFrame() # variance-covariance matrix of the returns annualised\n",
        "Sigma_diag = pd.DataFrame() # individual variances (derived from the variance-covariance matrix)\n",
        "\n",
        "for x in TickerDax:  \n",
        "    data_R[x] = (data[x]['Close']/data[x]['Close'].shift(1)-1)\n",
        "Sigma = AFactor*data_R.cov() # annualisation, the missing values are not taken into account with .Cov()\n",
        "InvSigma = inv(Sigma)  \n",
        "for x in TickerDax:  \n",
        "    Sigma_diag[x] = [Sigma[x][x]] \n",
        "    Mdata_R[x]= [float(np.mean(data_R[x])) ] \n",
        "\n",
        "# Model parameters, derived from the observations\n",
        "Mean =  AFactor* Mdata_R.iloc[0] # average returns on an annualised basis \n",
        "STD = Sigma_diag.iloc[0]**.5 # standard deviations on an annualised basis\n",
        "\n",
        "# Important variables calculation\n",
        "a = Vec1.T.dot(InvSigma).dot(Vec1) \n",
        "b = Mean.T.dot(InvSigma).dot(Vec1) \n",
        "sd_a = 1 / math.sqrt(a) # standard deviation, minimum variance portfolio\n",
        "m_a = b / a # expected return, minimum variance portfolio\n",
        "m_w = math.sqrt((Mean - b/a * Vec1).T.dot(InvSigma).dot(Mean - b/a * Vec1)) # expected return, portfolio w\n",
        "m_r = math.sqrt((Mean - r * Vec1).T.dot(InvSigma).dot(Mean - r * Vec1)) # expected return, Tangent Portfolio \n",
        "\n",
        "# Graph plotting\n",
        "np.random.seed(7777) # Fixing random state for reproducibility\n",
        "colors = np.random.rand(len(STD)) # each point will have its own (random) color\n",
        "plt.scatter(STD, Mean, c=colors, alpha=0.7) # plot the assets, alpha transparency parameter\n",
        "ax.annotate(TickerDax[0], (STD[0]+.01,Mean[0] ))\n",
        "ax.annotate(TickerDax[1], (STD[1]+.01,Mean[1] ))\n",
        "ax.annotate(TickerDax[2], (STD[2]+.01,Mean[2] ))\n",
        "ax.annotate(TickerDax[3], (STD[3]+.01,Mean[3]-.01 ))\n",
        "ax.annotate(TickerDax[4], (STD[4]+.01,Mean[4] ))\n",
        "range_inf = np.min(Mean) - 0.05\n",
        "range_sup = np.max(Mean) + 0.35\n",
        "z2 = np.linspace(range_inf , range_sup, 50) # range of expected returns considered\n",
        "z1 = pd.DataFrame() \n",
        "z= pd.DataFrame() \n",
        "zr= pd.DataFrame()\n",
        "i=0\n",
        "for i in range(len(z2)):\n",
        "    z1[i]= [math.sqrt( ((z2[i]- m_a)/m_w)**2 + sd_a**2 )] # Frontier\n",
        "    z[i]= [(z2[i] - b/a)/m_w] # Asymptot to the Frontier\n",
        "    zr[i]= [(z2[i] - r)/m_r] # Capital Marlet Line\n",
        "z1 = z1.iloc[0]\n",
        "z=z.iloc[0]\n",
        "zr=zr.iloc[0]\n",
        "plt.plot(z1, z2, alpha=1) # plot the Frontier \n",
        "plt.plot(z, z2, alpha=1) # plot the asymptot to the Frontier \n",
        "plt.plot(zr, z2, alpha=1) # plot the Capital Market Line \n",
        "plt.legend(['Frontier','Asymptot','Capital Market Line' ], loc=2)\n",
        "plt.grid(True)\n",
        "plt.xlabel('Annualised standard deviation')\n",
        "plt.ylabel('Annualised return')\n",
        "\n",
        "# Useful Ouputs. \n",
        "print (\"annualised standard deviations of the returns:\") \n",
        "print (STD) \n",
        "print (\"annualised means of the returns:\")\n",
        "print (Mean) \n",
        "print (\"min variance portfolio:\")\n",
        "print (\"sd_a\", sd_a, \",m_a\", b/a) \n",
        "print (\"matrix of variance-covariance:\")\n",
        "print (Sigma)\n",
        "print (\"Correl Matrix\")\n",
        "print (data_R . corr ())"
      ],
      "execution_count": 3,
      "outputs": [
        {
          "output_type": "stream",
          "name": "stderr",
          "text": [
            "/usr/local/lib/python3.7/dist-packages/ipykernel_launcher.py:15: DeprecationWarning: The default dtype for empty Series will be 'object' instead of 'float64' in a future version. Specify a dtype explicitly to silence this warning.\n",
            "  from ipykernel import kernelapp as app\n"
          ]
        },
        {
          "output_type": "stream",
          "name": "stdout",
          "text": [
            "annualised standard deviations of the returns:\n",
            "DPW.DE    0.154050\n",
            "ALV.DE    0.130898\n",
            "BMW.DE    0.150095\n",
            "BAS.DE    0.150738\n",
            "FME.DE    0.169942\n",
            "Name: 0, dtype: float64\n",
            "annualised means of the returns:\n",
            "DPW.DE    0.280040\n",
            "ALV.DE    0.249389\n",
            "BMW.DE    0.015178\n",
            "BAS.DE    0.079054\n",
            "FME.DE    0.091420\n",
            "Name: 0, dtype: float64\n",
            "min variance portfolio:\n",
            "sd_a 0.11238767527874212 ,m_a 0.14789481873541624\n",
            "matrix of variance-covariance:\n",
            "          DPW.DE    ALV.DE    BMW.DE    BAS.DE    FME.DE\n",
            "DPW.DE  0.023731  0.012276  0.010278  0.012597  0.010925\n",
            "ALV.DE  0.012276  0.017134  0.009849  0.011937  0.008191\n",
            "BMW.DE  0.010278  0.009849  0.022528  0.011679  0.007472\n",
            "BAS.DE  0.012597  0.011937  0.011679  0.022722  0.010228\n",
            "FME.DE  0.010925  0.008191  0.007472  0.010228  0.028880\n",
            "Correl Matrix\n",
            "          DPW.DE    ALV.DE    BMW.DE    BAS.DE    FME.DE\n",
            "DPW.DE  1.000000  0.608763  0.444511  0.542464  0.417327\n",
            "ALV.DE  0.608763  1.000000  0.501275  0.605000  0.368212\n",
            "BMW.DE  0.444511  0.501275  1.000000  0.516217  0.292930\n",
            "BAS.DE  0.542464  0.605000  0.516217  1.000000  0.399250\n",
            "FME.DE  0.417327  0.368212  0.292930  0.399250  1.000000\n"
          ]
        },
        {
          "output_type": "display_data",
          "data": {
            "text/plain": [
              "<Figure size 432x288 with 1 Axes>"
            ],
            "image/png": "[encoded data removed]"
          },
          "metadata": {
            "needs_background": "light"
          }
        }
      ]
    }
  ]
}