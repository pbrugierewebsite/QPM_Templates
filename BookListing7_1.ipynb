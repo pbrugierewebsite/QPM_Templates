{
  "nbformat": 4,
  "nbformat_minor": 0,
  "metadata": {
    "colab": {
      "name": "BookListing7_1.ipynb",
      "provenance": [],
      "authorship_tag": "ABX9TyN/WuaYMwCl9J6ZqLboe61b",
      "include_colab_link": true
    },
    "kernelspec": {
      "name": "python3",
      "display_name": "Python 3"
    },
    "language_info": {
      "name": "python"
    }
  },
  "cells": [
    {
      "cell_type": "markdown",
      "metadata": {
        "id": "view-in-github",
        "colab_type": "text"
      },
      "source": [
        "<a href=\"https://colab.research.google.com/github/pbrugierewebsite/QPM_Templates/blob/main/BookListing7_1.ipynb\" target=\"_parent\"><img src=\"https://colab.research.google.com/assets/colab-badge.svg\" alt=\"Open In Colab\"/></a>"
      ]
    },
    {
      "cell_type": "code",
      "source": [
        "!pip install yfinance "
      ],
      "metadata": {
        "colab": {
          "base_uri": "https://localhost:8080/"
        },
        "id": "bo69h8nfOxxB",
        "outputId": "7197e447-82df-4984-9a4a-564ec88bb5ca"
      },
      "execution_count": 3,
      "outputs": [
        {
          "output_type": "stream",
          "name": "stdout",
          "text": [
            "Requirement already satisfied: yfinance in /usr/local/lib/python3.7/dist-packages (0.1.70)\n",
            "Requirement already satisfied: numpy>=1.15 in /usr/local/lib/python3.7/dist-packages (from yfinance) (1.21.6)\n",
            "Requirement already satisfied: pandas>=0.24.0 in /usr/local/lib/python3.7/dist-packages (from yfinance) (1.3.5)\n",
            "Requirement already satisfied: requests>=2.26 in /usr/local/lib/python3.7/dist-packages (from yfinance) (2.27.1)\n",
            "Requirement already satisfied: lxml>=4.5.1 in /usr/local/lib/python3.7/dist-packages (from yfinance) (4.8.0)\n",
            "Requirement already satisfied: multitasking>=0.0.7 in /usr/local/lib/python3.7/dist-packages (from yfinance) (0.0.10)\n",
            "Requirement already satisfied: python-dateutil>=2.7.3 in /usr/local/lib/python3.7/dist-packages (from pandas>=0.24.0->yfinance) (2.8.2)\n",
            "Requirement already satisfied: pytz>=2017.3 in /usr/local/lib/python3.7/dist-packages (from pandas>=0.24.0->yfinance) (2022.1)\n",
            "Requirement already satisfied: six>=1.5 in /usr/local/lib/python3.7/dist-packages (from python-dateutil>=2.7.3->pandas>=0.24.0->yfinance) (1.15.0)\n",
            "Requirement already satisfied: certifi>=2017.4.17 in /usr/local/lib/python3.7/dist-packages (from requests>=2.26->yfinance) (2021.10.8)\n",
            "Requirement already satisfied: idna<4,>=2.5 in /usr/local/lib/python3.7/dist-packages (from requests>=2.26->yfinance) (2.10)\n",
            "Requirement already satisfied: urllib3<1.27,>=1.21.1 in /usr/local/lib/python3.7/dist-packages (from requests>=2.26->yfinance) (1.24.3)\n",
            "Requirement already satisfied: charset-normalizer~=2.0.0 in /usr/local/lib/python3.7/dist-packages (from requests>=2.26->yfinance) (2.0.12)\n"
          ]
        }
      ]
    },
    {
      "cell_type": "code",
      "metadata": {
        "colab": {
          "base_uri": "https://localhost:8080/",
          "height": 283
        },
        "id": "IEUPoFABgu4N",
        "outputId": "df7ebe9d-6d3d-4a9e-e7af-41c4df9a3c17"
      },
      "source": [
        "# First part: data extraction\n",
        "import yfinance as yf\n",
        "import pandas as pd\n",
        "import pandas_datareader.data as web\n",
        "Tickers = ['DPW.DE','ALV.DE','BMW.DE','BAS.DE','FME.DE']\n",
        "startinput = '2017-01-1'\n",
        "endinput = '2017-12-31'\n",
        "S = pd.DataFrame() # creation of the data frame that will contain the data set\n",
        "for t in Tickers : \n",
        "    S[t] = yf.Ticker(t).history(start='2017-01-1',end='2017-12-31')['Close']\n",
        "# Second part: BHS VaR calculation for the portfolio\n",
        "import numpy as np\n",
        "import matplotlib.pyplot as plt\n",
        "# we want to calculate the VaR of the portfolio returns over p days \n",
        "# for this, we produce s simulations for the portfolio returns over p days\n",
        "# this is done through the bootstrap,\n",
        "# by choosing with replacement p vectors of stocks returns amongst the n calculated.\n",
        "d = len(Tickers) # number of stocks considered\n",
        "p = 10 # number of daily returns considered in each bootstrap simulation\n",
        "s = 10000 # number of bootstrap simulations\n",
        "R = pd.DataFrame() # creation of the data frame that will contain the five stocks returns\n",
        "\n",
        "for t in Tickers : \n",
        "    R[t] =S[t]/S[t].shift(1)-1 # calculate the stock returns from the closing prices observed\n",
        "R = R[1:]  # eliminate the first value which cannot be calculated\n",
        "\n",
        "# definition of the weights for the portfolio\n",
        "w = np.zeros(d) # defines the shape of the vector of allocation \n",
        "for i in range(d):\n",
        "    w[i]= 1.0/d # arbitray choice of constant weights for the portfolio in this example\n",
        "\n",
        "# bootstrap method used in each of the s simulations\n",
        "n = len(R.index) # number of vector of returns from the sample \n",
        "perf = np.zeros(s) # array where the portfolio return is saved for each simulation\n",
        "for i in range(s):\n",
        "    idx = np.random.choice(n, p) # select with replacement p vectors of returns amongst n\n",
        "    RB = R.iloc[idx]  # extract the p vectors of returns from the return data frame\n",
        "    RBP = np.prod(RB +1)-1 # calculate the returns over p days for each stock\n",
        "    perf[i] = RBP.dot(w) # calculate the portfolio return over p days\n",
        "plt.hist(perf, 30, histtype='step') # histogram for the portfolio return with 30 buckets\n",
        "plt.grid(True) # grid added to the histogram\n",
        "print (\"The Var 99% is:\", np.percentile(perf,0.01))"
      ],
      "execution_count": 4,
      "outputs": [
        {
          "output_type": "stream",
          "name": "stdout",
          "text": [
            "The Var 99% is: -0.06262655566179563\n"
          ]
        },
        {
          "output_type": "display_data",
          "data": {
            "text/plain": [
              "<Figure size 432x288 with 1 Axes>"
            ],
            "image/png": "[encoded data removed]"
          },
          "metadata": {
            "needs_background": "light"
          }
        }
      ]
    }
  ]
}