{
  "nbformat": 4,
  "nbformat_minor": 0,
  "metadata": {
    "colab": {
      "name": "BookListing7_1.ipynb",
      "provenance": [],
      "authorship_tag": "ABX9TyOU+wjWPIhW6pL/O7/XDheJ",
      "include_colab_link": true
    },
    "kernelspec": {
      "name": "python3",
      "display_name": "Python 3"
    },
    "language_info": {
      "name": "python"
    }
  },
  "cells": [
    {
      "cell_type": "markdown",
      "metadata": {
        "id": "view-in-github",
        "colab_type": "text"
      },
      "source": [
        "<a href=\"https://colab.research.google.com/github/pbrugierewebsite/QPM_Templates/blob/main/BookListing7_1.ipynb\" target=\"_parent\"><img src=\"https://colab.research.google.com/assets/colab-badge.svg\" alt=\"Open In Colab\"/></a>"
      ]
    },
    {
      "cell_type": "code",
      "metadata": {
        "colab": {
          "base_uri": "https://localhost:8080/",
          "height": 283
        },
        "id": "IEUPoFABgu4N",
        "outputId": "934e2d0e-3d82-4d2c-c387-e9675653bba6"
      },
      "source": [
        "# First part: data extraction\n",
        "import pandas as pd\n",
        "import pandas_datareader.data as web\n",
        "Tickers = ['DPW.DE','ALV.DE','BMW.DE','BAS.DE','FME.DE']\n",
        "startinput = '2017-01-1'\n",
        "endinput = '2017-12-31'\n",
        "S = pd.DataFrame() # creation of the data frame that will contain the data set\n",
        "for t in Tickers : \n",
        "    S[t] = web.DataReader(name = t, data_source='yahoo',start= startinput,end= endinput)['Close']\n",
        "# Second part: BHS VaR calculation for the portfolio\n",
        "import numpy as np\n",
        "import matplotlib.pyplot as plt\n",
        "# we want to calculate the VaR of the portfolio returns over p days \n",
        "# for this, we produce s simulations for the portfolio returns over p days\n",
        "# this is done through the bootstrap,\n",
        "# by choosing with replacement p vectors of stocks returns amongst the n calculated.\n",
        "d = len(Tickers) # number of stocks considered\n",
        "p = 10 # number of daily returns considered in each bootstrap simulation\n",
        "s = 10000 # number of bootstrap simulations\n",
        "R = pd.DataFrame() # creation of the data frame that will contain the five stocks returns\n",
        "\n",
        "for t in Tickers : \n",
        "    R[t] =S[t]/S[t].shift(1)-1 # calculate the stock returns from the closing prices observed\n",
        "R = R[1:]  # eliminate the first value which cannot be calculated\n",
        "\n",
        "# definition of the weights for the portfolio\n",
        "w = np.zeros(d) # defines the shape of the vector of allocation \n",
        "for i in range(d):\n",
        "    w[i]= 1.0/d # arbitray choice of constant weights for the portfolio in this example\n",
        "\n",
        "# bootstrap method used in each of the s simulations\n",
        "n = len(R.index) # number of vector of returns from the sample \n",
        "perf = np.zeros(s) # array where the portfolio return is saved for each simulation\n",
        "for i in range(s):\n",
        "    idx = np.random.choice(n, p) # select with replacement p vectors of returns amongst n\n",
        "    RB = R.iloc[idx]  # extract the p vectors of returns from the return data frame\n",
        "    RBP = np.prod(RB +1)-1 # calculate the returns over p days for each stock\n",
        "    perf[i] = RBP.dot(w) # calculate the portfolio return over p days\n",
        "plt.hist(perf, 30, histtype='step') # histogram for the portfolio return with 30 buckets\n",
        "plt.grid(True) # grid added to the histogram\n",
        "print (\"The Var 99% is:\", np.percentile(perf,0.01))"
      ],
      "execution_count": 1,
      "outputs": [
        {
          "output_type": "stream",
          "text": [
            "The Var 99% is: -0.07792614309318294\n"
          ],
          "name": "stdout"
        },
        {
          "output_type": "display_data",
          "data": {
            "image/png": "[encoded data removed]",
            "text/plain": [
              "<Figure size 432x288 with 1 Axes>"
            ]
          },
          "metadata": {
            "tags": [],
            "needs_background": "light"
          }
        }
      ]
    }
  ]
}